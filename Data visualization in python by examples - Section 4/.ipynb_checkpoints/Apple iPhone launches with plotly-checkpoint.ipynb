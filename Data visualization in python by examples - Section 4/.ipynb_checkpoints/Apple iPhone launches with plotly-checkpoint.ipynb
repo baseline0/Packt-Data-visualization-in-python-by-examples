{
 "cells": [
  {
   "cell_type": "markdown",
   "metadata": {},
   "source": [
    "### import required modules"
   ]
  },
  {
   "cell_type": "code",
   "execution_count": null,
   "metadata": {
    "collapsed": true
   },
   "outputs": [],
   "source": [
    "import pandas as pd\n",
    "import plotly\n",
    "import plotly.plotly as py\n",
    "from plotly.graph_objs import *"
   ]
  },
  {
   "cell_type": "markdown",
   "metadata": {},
   "source": [
    "### Authenticating Plotly API access"
   ]
  },
  {
   "cell_type": "code",
   "execution_count": null,
   "metadata": {
    "collapsed": true
   },
   "outputs": [],
   "source": [
    "# Replace username and api_key values with the ones from your plotly account \n",
    "plotly.tools.set_credentials_file(username='#####', api_key='#################')"
   ]
  },
  {
   "cell_type": "markdown",
   "metadata": {},
   "source": [
    "### Read in and explore the data"
   ]
  },
  {
   "cell_type": "code",
   "execution_count": null,
   "metadata": {
    "collapsed": true
   },
   "outputs": [],
   "source": [
    "df = pd.read_csv(\"data-iphone.csv\")"
   ]
  },
  {
   "cell_type": "code",
   "execution_count": null,
   "metadata": {},
   "outputs": [],
   "source": [
    "df.head()"
   ]
  },
  {
   "cell_type": "code",
   "execution_count": null,
   "metadata": {},
   "outputs": [],
   "source": [
    "df.info()"
   ]
  },
  {
   "cell_type": "markdown",
   "metadata": {},
   "source": [
    "### Creating Plotly Visualizations"
   ]
  },
  {
   "cell_type": "code",
   "execution_count": null,
   "metadata": {},
   "outputs": [],
   "source": [
    "data = [Bar(x=df.Quarter,\n",
    "            y=df.Sales)]\n",
    "\n",
    "py.iplot(data, filename='basic_bar')"
   ]
  },
  {
   "cell_type": "code",
   "execution_count": null,
   "metadata": {},
   "outputs": [],
   "source": [
    "data = [Scatter(x=df.Quarter,\n",
    "            y=df.Sales)]\n",
    "\n",
    "py.iplot(data, filename='basic_line')"
   ]
  },
  {
   "cell_type": "code",
   "execution_count": null,
   "metadata": {},
   "outputs": [],
   "source": [
    "data = [Scatter(x=df.Quarter,\n",
    "            y=df.YOY_Growth,\n",
    "            mode = 'lines+markers')]\n",
    "\n",
    "py.iplot(data, filename='basic_line_point')"
   ]
  },
  {
   "cell_type": "code",
   "execution_count": null,
   "metadata": {},
   "outputs": [],
   "source": [
    "trace_sales = Bar(x=df.Quarter,\n",
    "                y=df.Sales)\n",
    "\n",
    "trace_growth = Scatter(x=df.Quarter,\n",
    "                y=df.YOY_Growth,\n",
    "                mode = 'lines+markers')\n",
    "\n",
    "data = [trace_sales, trace_growth]\n",
    "fig = Figure(data=data)\n",
    "\n",
    "py.iplot(fig, filename='styled_bar')"
   ]
  },
  {
   "cell_type": "code",
   "execution_count": null,
   "metadata": {
    "collapsed": true
   },
   "outputs": [],
   "source": [
    "df1 = df[9:]"
   ]
  },
  {
   "cell_type": "code",
   "execution_count": null,
   "metadata": {},
   "outputs": [],
   "source": [
    "trace_sales = Bar(x=df1.Quarter,\n",
    "                y=df1.Sales)\n",
    "\n",
    "trace_growth = Scatter(x=df1.Quarter,\n",
    "                y=df1.YOY_Growth,\n",
    "                mode = 'lines+markers')\n",
    "\n",
    "data = [trace_sales, trace_growth]\n",
    "fig = Figure(data=data)\n",
    "\n",
    "py.iplot(fig, filename='styled_bar')"
   ]
  },
  {
   "cell_type": "markdown",
   "metadata": {},
   "source": [
    "### Customizations"
   ]
  },
  {
   "cell_type": "raw",
   "metadata": {},
   "source": []
  },
  {
   "cell_type": "code",
   "execution_count": null,
   "metadata": {},
   "outputs": [],
   "source": [
    "trace_sales = Bar(x=df1.Quarter,\n",
    "                y=df1.Sales,name='Sales',\n",
    "                marker=dict(color='#A2D5F2'))\n",
    "\n",
    "trace_growth = Scatter(x=df1.Quarter,\n",
    "                y=df1.YOY_Growth,\n",
    "                mode = 'lines+markers',name='YOY Growth',\n",
    "                marker=dict(color='#59606D'))\n",
    "\n",
    "data = [trace_sales, trace_growth]\n",
    "fig = Figure(data=data)\n",
    "\n",
    "py.iplot(fig, filename='styled_bar')"
   ]
  },
  {
   "cell_type": "code",
   "execution_count": null,
   "metadata": {},
   "outputs": [],
   "source": [
    "trace_sales = Bar(x=df1.Quarter,\n",
    "                y=df1.Sales,\n",
    "                name='Sales',\n",
    "                marker=dict(color='#A2D5F2'))\n",
    "\n",
    "trace_growth = Scatter(x=df1.Quarter,\n",
    "                y=df1.YOY_Growth,\n",
    "                name='YOY Growth',\n",
    "                marker=dict(color='#59606D'),\n",
    "                mode = 'lines+markers',\n",
    "                yaxis='y2')\n",
    "\n",
    "layout = Layout(\n",
    "     yaxis=dict(\n",
    "        title='Sales in millions'\n",
    "    ),\n",
    "    yaxis2=dict(\n",
    "        title='Growth Rate %',\n",
    "        titlefont=dict(\n",
    "            color='rgb(148, 103, 189)'\n",
    "        ),\n",
    "        tickfont=dict(\n",
    "            color='rgb(148, 103, 189)'\n",
    "        ),\n",
    "        overlaying='y',\n",
    "        side='right'\n",
    "    )\n",
    ")\n",
    "\n",
    "data = [trace_sales, trace_growth]\n",
    "fig = Figure(data=data, layout=layout)\n",
    "\n",
    "py.iplot(fig, filename='styled_bar')"
   ]
  },
  {
   "cell_type": "code",
   "execution_count": null,
   "metadata": {
    "collapsed": true
   },
   "outputs": [],
   "source": [
    "trace_sales = Bar(x=df1.Quarter,\n",
    "                y=df1.Sales,\n",
    "                name='Sales',\n",
    "                marker=dict(color='#A2D5F2'))\n",
    "\n",
    "trace_growth = Scatter(x=df1.Quarter,\n",
    "                y=df1.YOY_Growth,\n",
    "                name='YOY Growth',\n",
    "                marker=dict(color='#59606D'),\n",
    "                mode = 'lines+markers',\n",
    "                yaxis='y2')\n",
    "\n",
    "layout = Layout(\n",
    "    yaxis=dict(\n",
    "        title='Sales in millions'\n",
    "    ),\n",
    "    yaxis2=dict(\n",
    "        title='Growth Rate %',\n",
    "        titlefont=dict(\n",
    "            color='rgb(148, 103, 189)'\n",
    "        ),\n",
    "        tickfont=dict(\n",
    "            color='rgb(148, 103, 189)'\n",
    "        ),\n",
    "        overlaying='y',\n",
    "        side='right'\n",
    "    )\n",
    ")\n",
    "\n",
    "data = [trace_sales, trace_growth]\n",
    "fig = Figure(data=data, layout=layout)\n",
    "\n",
    "py.iplot(fig, filename='styled_bar')"
   ]
  },
  {
   "cell_type": "code",
   "execution_count": null,
   "metadata": {},
   "outputs": [],
   "source": [
    "layout = Layout( \n",
    "    yaxis=dict(\n",
    "        title='Sales in millions'\n",
    "    ),\n",
    "    yaxis2=dict(\n",
    "        title='Growth Rate %e',\n",
    "        titlefont=dict(\n",
    "            color='rgb(148, 103, 189)'\n",
    "        ),\n",
    "        tickfont=dict(\n",
    "            color='rgb(148, 103, 189)'\n",
    "        ),\n",
    "        overlaying='y',\n",
    "        side='right'\n",
    "    ),\n",
    "    title='Apple iPhone Sales and Growth Rate over the quarters',\n",
    "    paper_bgcolor = 'rgb(53, 2, 7)',\n",
    "    plot_bgcolor = 'rgb(53, 2, 7)',\n",
    "    font = {'color': 'white'}\n",
    ")\n",
    "\n",
    "data = [trace_sales, trace_growth]\n",
    "fig = Figure(data=data, layout=layout)\n",
    "\n",
    "py.iplot(fig, filename='styled_bar')"
   ]
  },
  {
   "cell_type": "code",
   "execution_count": null,
   "metadata": {
    "collapsed": true
   },
   "outputs": [],
   "source": []
  }
 ],
 "metadata": {
  "kernelspec": {
   "display_name": "Python 3",
   "language": "python",
   "name": "python3"
  },
  "language_info": {
   "codemirror_mode": {
    "name": "ipython",
    "version": 3
   },
   "file_extension": ".py",
   "mimetype": "text/x-python",
   "name": "python",
   "nbconvert_exporter": "python",
   "pygments_lexer": "ipython3",
   "version": "3.6.1"
  }
 },
 "nbformat": 4,
 "nbformat_minor": 2
}
