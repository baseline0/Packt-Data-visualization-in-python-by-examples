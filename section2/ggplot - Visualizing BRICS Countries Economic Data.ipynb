{
 "cells": [
  {
   "cell_type": "markdown",
   "metadata": {},
   "source": [
    "### Import required modules"
   ]
  },
  {
   "cell_type": "code",
   "execution_count": 1,
   "metadata": {},
   "outputs": [
    {
     "ename": "AttributeError",
     "evalue": "module 'pandas' has no attribute 'tslib'",
     "output_type": "error",
     "traceback": [
      "\u001b[0;31m---------------------------------------------------------------------------\u001b[0m",
      "\u001b[0;31mAttributeError\u001b[0m                            Traceback (most recent call last)",
      "\u001b[1;32m/Users/alexiuk/projects/baseline0/Packt-Data-visualization-in-python-by-examples/section2/ggplot - Visualizing BRICS Countries Economic Data.ipynb Cell 2\u001b[0m line \u001b[0;36m1\n\u001b[0;32m----> <a href='vscode-notebook-cell:/Users/alexiuk/projects/baseline0/Packt-Data-visualization-in-python-by-examples/section2/ggplot%20-%20Visualizing%20BRICS%20Countries%20Economic%20Data.ipynb#W1sZmlsZQ%3D%3D?line=0'>1</a>\u001b[0m \u001b[39mfrom\u001b[39;00m \u001b[39mggplot\u001b[39;00m \u001b[39mimport\u001b[39;00m \u001b[39m*\u001b[39m\n\u001b[1;32m      <a href='vscode-notebook-cell:/Users/alexiuk/projects/baseline0/Packt-Data-visualization-in-python-by-examples/section2/ggplot%20-%20Visualizing%20BRICS%20Countries%20Economic%20Data.ipynb#W1sZmlsZQ%3D%3D?line=1'>2</a>\u001b[0m \u001b[39mimport\u001b[39;00m \u001b[39mpandas\u001b[39;00m \u001b[39mas\u001b[39;00m \u001b[39mpd\u001b[39;00m\n",
      "File \u001b[0;32m~/projects/baseline0/Packt-Data-visualization-in-python-by-examples/pyviztutorial/lib/python3.12/site-packages/ggplot/__init__.py:19\u001b[0m\n\u001b[1;32m     14\u001b[0m         mpl\u001b[39m.\u001b[39muse(env_backend)\n\u001b[1;32m     16\u001b[0m _set_mpl_backend()\n\u001b[0;32m---> 19\u001b[0m \u001b[39mfrom\u001b[39;00m \u001b[39m.\u001b[39;00m\u001b[39mgeoms\u001b[39;00m \u001b[39mimport\u001b[39;00m geom_area, geom_blank, geom_boxplot, geom_line, geom_point, geom_jitter, geom_histogram, geom_density, geom_hline, geom_vline, geom_bar, geom_abline, geom_tile, geom_rect, geom_bin2d, geom_step, geom_text, geom_path, geom_ribbon, geom_now_its_art, geom_violin, geom_errorbar, geom_polygon\n\u001b[1;32m     20\u001b[0m \u001b[39mfrom\u001b[39;00m \u001b[39m.\u001b[39;00m\u001b[39mstats\u001b[39;00m \u001b[39mimport\u001b[39;00m stat_smooth, stat_density\n\u001b[1;32m     22\u001b[0m \u001b[39mfrom\u001b[39;00m \u001b[39m.\u001b[39;00m\u001b[39mfacets\u001b[39;00m \u001b[39mimport\u001b[39;00m facet_wrap, facet_grid, Facet\n",
      "File \u001b[0;32m~/projects/baseline0/Packt-Data-visualization-in-python-by-examples/pyviztutorial/lib/python3.12/site-packages/ggplot/geoms/__init__.py:1\u001b[0m\n\u001b[0;32m----> 1\u001b[0m \u001b[39mfrom\u001b[39;00m \u001b[39m.\u001b[39;00m\u001b[39mgeom_abline\u001b[39;00m \u001b[39mimport\u001b[39;00m geom_abline\n\u001b[1;32m      2\u001b[0m \u001b[39mfrom\u001b[39;00m \u001b[39m.\u001b[39;00m\u001b[39mgeom_area\u001b[39;00m \u001b[39mimport\u001b[39;00m geom_area\n\u001b[1;32m      3\u001b[0m \u001b[39mfrom\u001b[39;00m \u001b[39m.\u001b[39;00m\u001b[39mgeom_bar\u001b[39;00m \u001b[39mimport\u001b[39;00m geom_bar\n",
      "File \u001b[0;32m~/projects/baseline0/Packt-Data-visualization-in-python-by-examples/pyviztutorial/lib/python3.12/site-packages/ggplot/geoms/geom_abline.py:1\u001b[0m\n\u001b[0;32m----> 1\u001b[0m \u001b[39mfrom\u001b[39;00m \u001b[39m.\u001b[39;00m\u001b[39mgeom\u001b[39;00m \u001b[39mimport\u001b[39;00m geom\n\u001b[1;32m      3\u001b[0m \u001b[39mclass\u001b[39;00m \u001b[39mgeom_abline\u001b[39;00m(geom):\n\u001b[1;32m      4\u001b[0m \u001b[39m    \u001b[39m\u001b[39m\"\"\"\u001b[39;00m\n\u001b[1;32m      5\u001b[0m \u001b[39m    Line specified by slope and intercept\u001b[39;00m\n\u001b[1;32m      6\u001b[0m \n\u001b[0;32m   (...)\u001b[0m\n\u001b[1;32m     23\u001b[0m \u001b[39m    --------\u001b[39;00m\n\u001b[1;32m     24\u001b[0m \u001b[39m    \"\"\"\u001b[39;00m\n",
      "File \u001b[0;32m~/projects/baseline0/Packt-Data-visualization-in-python-by-examples/pyviztutorial/lib/python3.12/site-packages/ggplot/geoms/geom.py:3\u001b[0m\n\u001b[1;32m      1\u001b[0m \u001b[39mfrom\u001b[39;00m \u001b[39m__future__\u001b[39;00m \u001b[39mimport\u001b[39;00m (absolute_import, division, print_function,\n\u001b[1;32m      2\u001b[0m                         unicode_literals)\n\u001b[0;32m----> 3\u001b[0m \u001b[39mfrom\u001b[39;00m \u001b[39m.\u001b[39;00m\u001b[39m.\u001b[39;00m\u001b[39mggplot\u001b[39;00m \u001b[39mimport\u001b[39;00m ggplot\n\u001b[1;32m      4\u001b[0m \u001b[39mfrom\u001b[39;00m \u001b[39m.\u001b[39;00m\u001b[39m.\u001b[39;00m\u001b[39maes\u001b[39;00m \u001b[39mimport\u001b[39;00m aes\n\u001b[1;32m      6\u001b[0m \u001b[39mclass\u001b[39;00m \u001b[39mgeom\u001b[39;00m(\u001b[39mobject\u001b[39m):\n",
      "File \u001b[0;32m~/projects/baseline0/Packt-Data-visualization-in-python-by-examples/pyviztutorial/lib/python3.12/site-packages/ggplot/ggplot.py:13\u001b[0m\n\u001b[1;32m     10\u001b[0m \u001b[39mimport\u001b[39;00m \u001b[39mpandas\u001b[39;00m \u001b[39mas\u001b[39;00m \u001b[39mpd\u001b[39;00m\n\u001b[1;32m     11\u001b[0m \u001b[39mimport\u001b[39;00m \u001b[39mwarnings\u001b[39;00m\n\u001b[0;32m---> 13\u001b[0m \u001b[39mfrom\u001b[39;00m \u001b[39m.\u001b[39;00m\u001b[39maes\u001b[39;00m \u001b[39mimport\u001b[39;00m aes\n\u001b[1;32m     14\u001b[0m \u001b[39mfrom\u001b[39;00m \u001b[39m.\u001b[39;00m\u001b[39mlegend\u001b[39;00m \u001b[39mimport\u001b[39;00m make_legend\n\u001b[1;32m     15\u001b[0m \u001b[39mfrom\u001b[39;00m \u001b[39m.\u001b[39;00m\u001b[39mthemes\u001b[39;00m \u001b[39mimport\u001b[39;00m theme_gray\n",
      "File \u001b[0;32m~/projects/baseline0/Packt-Data-visualization-in-python-by-examples/pyviztutorial/lib/python3.12/site-packages/ggplot/aes.py:11\u001b[0m\n\u001b[1;32m      7\u001b[0m \u001b[39mimport\u001b[39;00m \u001b[39mdifflib\u001b[39;00m\n\u001b[1;32m      9\u001b[0m \u001b[39mfrom\u001b[39;00m \u001b[39mpatsy\u001b[39;00m\u001b[39m.\u001b[39;00m\u001b[39meval\u001b[39;00m \u001b[39mimport\u001b[39;00m EvalEnvironment\n\u001b[0;32m---> 11\u001b[0m \u001b[39mfrom\u001b[39;00m \u001b[39m.\u001b[39;00m \u001b[39mimport\u001b[39;00m utils\n\u001b[1;32m     13\u001b[0m \u001b[39mimport\u001b[39;00m \u001b[39mnumpy\u001b[39;00m \u001b[39mas\u001b[39;00m \u001b[39mnp\u001b[39;00m\n\u001b[1;32m     14\u001b[0m \u001b[39mimport\u001b[39;00m \u001b[39mpandas\u001b[39;00m \u001b[39mas\u001b[39;00m \u001b[39mpd\u001b[39;00m\n",
      "File \u001b[0;32m~/projects/baseline0/Packt-Data-visualization-in-python-by-examples/pyviztutorial/lib/python3.12/site-packages/ggplot/utils.py:81\u001b[0m\n\u001b[1;32m     77\u001b[0m     \u001b[39mexcept\u001b[39;00m:\n\u001b[1;32m     78\u001b[0m         \u001b[39mreturn\u001b[39;00m \u001b[39mFalse\u001b[39;00m\n\u001b[1;32m     80\u001b[0m date_types \u001b[39m=\u001b[39m (\n\u001b[0;32m---> 81\u001b[0m     pd\u001b[39m.\u001b[39;49mtslib\u001b[39m.\u001b[39mTimestamp,\n\u001b[1;32m     82\u001b[0m     pd\u001b[39m.\u001b[39mDatetimeIndex,\n\u001b[1;32m     83\u001b[0m     pd\u001b[39m.\u001b[39mPeriod,\n\u001b[1;32m     84\u001b[0m     pd\u001b[39m.\u001b[39mPeriodIndex,\n\u001b[1;32m     85\u001b[0m     datetime\u001b[39m.\u001b[39mdatetime,\n\u001b[1;32m     86\u001b[0m     datetime\u001b[39m.\u001b[39mtime\n\u001b[1;32m     87\u001b[0m )\n\u001b[1;32m     89\u001b[0m \u001b[39mdef\u001b[39;00m \u001b[39mis_date\u001b[39m(x):\n\u001b[1;32m     90\u001b[0m     \u001b[39mreturn\u001b[39;00m \u001b[39misinstance\u001b[39m(x, date_types)\n",
      "\u001b[0;31mAttributeError\u001b[0m: module 'pandas' has no attribute 'tslib'"
     ]
    }
   ],
   "source": [
    "from ggplot import *\n",
    "import pandas as pd"
   ]
  },
  {
   "cell_type": "markdown",
   "metadata": {},
   "source": [
    "### BRICS GDP Numbers"
   ]
  },
  {
   "cell_type": "markdown",
   "metadata": {},
   "source": [
    "### Read in the data\n",
    "* data Courtesy World Bank(https://data.worldbank.org/)"
   ]
  },
  {
   "cell_type": "code",
   "execution_count": null,
   "metadata": {
    "collapsed": true
   },
   "outputs": [],
   "source": [
    "gdp = pd.read_csv(\"data-gdp.csv\")"
   ]
  },
  {
   "cell_type": "markdown",
   "metadata": {},
   "source": [
    "### Exploring the data set"
   ]
  },
  {
   "cell_type": "code",
   "execution_count": null,
   "metadata": {},
   "outputs": [],
   "source": [
    "gdp.info()"
   ]
  },
  {
   "cell_type": "code",
   "execution_count": null,
   "metadata": {},
   "outputs": [],
   "source": [
    "gdp.head()"
   ]
  },
  {
   "cell_type": "markdown",
   "metadata": {},
   "source": [
    "### Visualizing GDP Numbers - building a ggplot chart piece by piece"
   ]
  },
  {
   "cell_type": "code",
   "execution_count": null,
   "metadata": {},
   "outputs": [],
   "source": [
    "plot = ggplot(aes(x='Year', y='Brazil'), data=gdp)\n",
    "plot"
   ]
  },
  {
   "cell_type": "code",
   "execution_count": null,
   "metadata": {},
   "outputs": [],
   "source": [
    "plot + geom_point()"
   ]
  },
  {
   "cell_type": "code",
   "execution_count": null,
   "metadata": {},
   "outputs": [],
   "source": [
    "plot + geom_line()"
   ]
  },
  {
   "cell_type": "markdown",
   "metadata": {},
   "source": [
    "### Visualizing multiple data variables on the same plot for comparison"
   ]
  },
  {
   "cell_type": "code",
   "execution_count": null,
   "metadata": {},
   "outputs": [],
   "source": [
    "ggplot(aes(x='Year'), data=gdp) +\\\n",
    "    geom_line(aes(y='Brazil'), color='blue') +\\\n",
    "    geom_line(aes(y='India'), color='red') +\\\n",
    "    geom_line(aes(y='China'), color='green') +\\\n",
    "    geom_line(aes(y='South Africa'), color='black') +\\\n",
    "    geom_line(aes(y='Russian Federation'), color='orange')"
   ]
  },
  {
   "cell_type": "markdown",
   "metadata": {
    "collapsed": true
   },
   "source": [
    "### BRICS GDP Growth Rates"
   ]
  },
  {
   "cell_type": "markdown",
   "metadata": {},
   "source": [
    "### Read in the data\n",
    "* data Courtesy World Bank"
   ]
  },
  {
   "cell_type": "code",
   "execution_count": null,
   "metadata": {
    "collapsed": true
   },
   "outputs": [],
   "source": [
    "gdp_rates = pd.read_csv(\"data-gdp-rates.csv\")"
   ]
  },
  {
   "cell_type": "markdown",
   "metadata": {},
   "source": [
    "### Exploring the data set"
   ]
  },
  {
   "cell_type": "code",
   "execution_count": null,
   "metadata": {},
   "outputs": [],
   "source": [
    "gdp.info()"
   ]
  },
  {
   "cell_type": "code",
   "execution_count": null,
   "metadata": {},
   "outputs": [],
   "source": [
    "gdp.head()"
   ]
  },
  {
   "cell_type": "markdown",
   "metadata": {},
   "source": [
    "### Visualizing GDP Growth rates - Bar plot for a single country"
   ]
  },
  {
   "cell_type": "code",
   "execution_count": null,
   "metadata": {},
   "outputs": [],
   "source": [
    "ggplot(aes(x='Year', weight=\"Brazil\"), data=gdp_rates) +\\\n",
    "    geom_bar(fill='blue')"
   ]
  },
  {
   "cell_type": "markdown",
   "metadata": {},
   "source": [
    "### Visualizing all BRICS countries growth rate"
   ]
  },
  {
   "cell_type": "code",
   "execution_count": null,
   "metadata": {},
   "outputs": [],
   "source": [
    "ggplot(aes(x='Year'), data=gdp_rates) +\\\n",
    "    geom_point(aes(y='Brazil'), color='blue', size=70) +\\\n",
    "    geom_point(aes(y='India'), color='red', size=70) +\\\n",
    "    geom_point(aes(y='China'), color='green', size=70) +\\\n",
    "    geom_point(aes(y='South Africa'), color='black', size=70) +\\\n",
    "    geom_point(aes(y='Russian Federation'), color='black', size=70)"
   ]
  },
  {
   "cell_type": "markdown",
   "metadata": {
    "collapsed": true
   },
   "source": [
    "### Visualizing growth rates using a line plot"
   ]
  },
  {
   "cell_type": "code",
   "execution_count": null,
   "metadata": {},
   "outputs": [],
   "source": [
    "ggplot(aes(x='Year'), data=gdp_rates) +\\\n",
    "    geom_line(aes(y='Brazil'), color='blue') +\\\n",
    "    geom_line(aes(y='India'), color='red') +\\\n",
    "    geom_line(aes(y='China'), color='green') +\\\n",
    "    geom_line(aes(y='South Africa'), color='black') +\\\n",
    "    geom_line(aes(y='Russian Federation'), color='orange', ylab=\"Growth Rate\")"
   ]
  },
  {
   "cell_type": "code",
   "execution_count": null,
   "metadata": {
    "collapsed": true
   },
   "outputs": [],
   "source": []
  }
 ],
 "metadata": {
  "kernelspec": {
   "display_name": "Python 3",
   "language": "python",
   "name": "python3"
  },
  "language_info": {
   "codemirror_mode": {
    "name": "ipython",
    "version": 3
   },
   "file_extension": ".py",
   "mimetype": "text/x-python",
   "name": "python",
   "nbconvert_exporter": "python",
   "pygments_lexer": "ipython3",
   "version": "3.12.0"
  }
 },
 "nbformat": 4,
 "nbformat_minor": 2
}
