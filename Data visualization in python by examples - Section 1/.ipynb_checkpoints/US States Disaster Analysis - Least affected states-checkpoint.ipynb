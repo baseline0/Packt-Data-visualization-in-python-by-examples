{
 "cells": [
  {
   "cell_type": "markdown",
   "metadata": {},
   "source": [
    "### Import the required modules"
   ]
  },
  {
   "cell_type": "code",
   "execution_count": null,
   "metadata": {
    "collapsed": true
   },
   "outputs": [],
   "source": [
    "import pandas as pd\n",
    "import matplotlib.pyplot as plt\n",
    "%matplotlib inline"
   ]
  },
  {
   "cell_type": "markdown",
   "metadata": {},
   "source": [
    "### Read in the data"
   ]
  },
  {
   "cell_type": "code",
   "execution_count": null,
   "metadata": {
    "collapsed": true
   },
   "outputs": [],
   "source": [
    "df = pd.read_csv(\"data-disasters.csv\")"
   ]
  },
  {
   "cell_type": "code",
   "execution_count": null,
   "metadata": {
    "collapsed": true
   },
   "outputs": [],
   "source": [
    "df.head()"
   ]
  },
  {
   "cell_type": "markdown",
   "metadata": {},
   "source": [
    "###  Let's create a new column total events"
   ]
  },
  {
   "cell_type": "code",
   "execution_count": null,
   "metadata": {
    "collapsed": true
   },
   "outputs": [],
   "source": [
    "df['Total'] = df['drought'] + df['flooding'] + df['freeze'] + df['severe storm'] + df['tropical cyclone'] + df['wildfire'] + df['winter storm']"
   ]
  },
  {
   "cell_type": "code",
   "execution_count": null,
   "metadata": {
    "collapsed": true
   },
   "outputs": [],
   "source": [
    "df.head()"
   ]
  },
  {
   "cell_type": "markdown",
   "metadata": {},
   "source": [
    "### Least affected 10 states by billion dollar disaster events"
   ]
  },
  {
   "cell_type": "code",
   "execution_count": null,
   "metadata": {},
   "outputs": [],
   "source": [
    "total = df.groupby(['state'])['Total'].sum()\n",
    "bottom10states = total.sort_values(ascending=True).head(10)\n",
    "bottom10states"
   ]
  },
  {
   "cell_type": "markdown",
   "metadata": {},
   "source": [
    "### Let's plot the least affected 10 states"
   ]
  },
  {
   "cell_type": "code",
   "execution_count": null,
   "metadata": {},
   "outputs": [],
   "source": [
    "plt.figure(figsize=(12,6))\n",
    "chart = bottom10states.plot(kind = \"bar\", facecolor='#AA0000',\n",
    "                title = 'States least affected by Disaster Events');\n",
    "chart.set_xlabel('State', fontsize=14);\n",
    "chart.set_ylabel('# of Billion # Events');"
   ]
  },
  {
   "cell_type": "markdown",
   "metadata": {},
   "source": [
    "### Plotting a stacked bar plot to visualize various kinds of disasters"
   ]
  },
  {
   "cell_type": "code",
   "execution_count": null,
   "metadata": {},
   "outputs": [],
   "source": [
    "total_by_state = df.groupby(['state'])['drought','flooding', 'freeze', 'severe storm',\n",
    "       'tropical cyclone', 'wildfire', 'winter storm','Total'].sum()\n",
    "least = total_by_state.sort_values('Total').head(10)\n",
    "least"
   ]
  },
  {
   "cell_type": "code",
   "execution_count": null,
   "metadata": {},
   "outputs": [],
   "source": [
    "f, ax = plt.subplots(1, figsize=(15,6))\n",
    "\n",
    "bar_l = [i+1 for i in range(len(least['drought']))]\n",
    "\n",
    "ax.bar(bar_l, least['drought'], label='drought', color='red', width=0.4)\n",
    "\n",
    "ax.bar(bar_l, least['freeze'], bottom=least['drought'], label='freeze',color='blue', width=0.4)\n",
    "\n",
    "ax.bar(bar_l, least['severe storm'], \n",
    "       bottom=[i+j for i,j in zip(least['drought'],least['freeze'])], \n",
    "       label='severe storm',color='green', width=0.4)\n",
    "\n",
    "ax.bar(bar_l, least['tropical cyclone'], \n",
    "       bottom=[i+j+k for i,j,k in zip(least['drought'],least['freeze'],least['severe storm'])],\n",
    "       label='tropical cyclone',color='yellow', width=0.4)\n",
    "\n",
    "ax.bar(bar_l, least['flooding'], \n",
    "       bottom=[i+j+k+l for i,j,k,l in zip(least['drought'],least['freeze'], least['severe storm'], least['tropical cyclone'])], \n",
    "       label='flooding',color='black', width=0.4)\n",
    "\n",
    "ax.bar(bar_l, least['wildfire'], \n",
    "       bottom=[i+j+k+l+m for i,j,k,l,m in zip(least['drought'],least['freeze'], least['severe storm'], least['tropical cyclone'],least['flooding'])], \n",
    "       label='wildfire',color='orange', width=0.4)\n",
    "\n",
    "ax.bar(bar_l, least['winter storm'], \n",
    "       bottom=[i+j+k+l+m+n for i,j,k,l,m,n in zip(least['drought'],least['freeze'], least['severe storm'], least['tropical cyclone'],least['flooding'],least['wildfire'])], \n",
    "       label='winter storm',color='purple', width=0.4)\n",
    "\n",
    "ax.set_title(\"Events by state\")\n",
    "\n",
    "ax.set_xlabel(\"states\");\n",
    "\n",
    "ax.set_ylabel(\"# of Billion Dollar events\");\n",
    "\n",
    "plt.legend(loc='upper left');"
   ]
  },
  {
   "cell_type": "code",
   "execution_count": null,
   "metadata": {
    "collapsed": true
   },
   "outputs": [],
   "source": []
  }
 ],
 "metadata": {
  "kernelspec": {
   "display_name": "Python 3",
   "language": "python",
   "name": "python3"
  },
  "language_info": {
   "codemirror_mode": {
    "name": "ipython",
    "version": 3
   },
   "file_extension": ".py",
   "mimetype": "text/x-python",
   "name": "python",
   "nbconvert_exporter": "python",
   "pygments_lexer": "ipython3",
   "version": "3.6.1"
  }
 },
 "nbformat": 4,
 "nbformat_minor": 2
}
