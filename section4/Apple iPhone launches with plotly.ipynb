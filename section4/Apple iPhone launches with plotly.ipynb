{
 "cells": [
  {
   "cell_type": "markdown",
   "metadata": {},
   "source": [
    "### import required modules"
   ]
  },
  {
   "cell_type": "code",
   "execution_count": 1,
   "metadata": {
    "collapsed": true
   },
   "outputs": [
    {
     "ename": "ImportError",
     "evalue": "\nThe plotly.plotly module is deprecated,\nplease install the chart-studio package and use the\nchart_studio.plotly module instead. \n",
     "output_type": "error",
     "traceback": [
      "\u001b[0;31m---------------------------------------------------------------------------\u001b[0m",
      "\u001b[0;31mImportError\u001b[0m                               Traceback (most recent call last)",
      "\u001b[1;32m/Users/alexiuk/projects/baseline0/Packt-Data-visualization-in-python-by-examples/section4/Apple iPhone launches with plotly.ipynb Cell 2\u001b[0m line \u001b[0;36m3\n\u001b[1;32m      <a href='vscode-notebook-cell:/Users/alexiuk/projects/baseline0/Packt-Data-visualization-in-python-by-examples/section4/Apple%20iPhone%20launches%20with%20plotly.ipynb#W1sZmlsZQ%3D%3D?line=0'>1</a>\u001b[0m \u001b[39mimport\u001b[39;00m \u001b[39mpandas\u001b[39;00m \u001b[39mas\u001b[39;00m \u001b[39mpd\u001b[39;00m\n\u001b[1;32m      <a href='vscode-notebook-cell:/Users/alexiuk/projects/baseline0/Packt-Data-visualization-in-python-by-examples/section4/Apple%20iPhone%20launches%20with%20plotly.ipynb#W1sZmlsZQ%3D%3D?line=1'>2</a>\u001b[0m \u001b[39mimport\u001b[39;00m \u001b[39mplotly\u001b[39;00m\n\u001b[0;32m----> <a href='vscode-notebook-cell:/Users/alexiuk/projects/baseline0/Packt-Data-visualization-in-python-by-examples/section4/Apple%20iPhone%20launches%20with%20plotly.ipynb#W1sZmlsZQ%3D%3D?line=2'>3</a>\u001b[0m \u001b[39mimport\u001b[39;00m \u001b[39mplotly\u001b[39;00m\u001b[39m.\u001b[39;00m\u001b[39mplotly\u001b[39;00m \u001b[39mas\u001b[39;00m \u001b[39mpy\u001b[39;00m\n\u001b[1;32m      <a href='vscode-notebook-cell:/Users/alexiuk/projects/baseline0/Packt-Data-visualization-in-python-by-examples/section4/Apple%20iPhone%20launches%20with%20plotly.ipynb#W1sZmlsZQ%3D%3D?line=3'>4</a>\u001b[0m \u001b[39mfrom\u001b[39;00m \u001b[39mplotly\u001b[39;00m\u001b[39m.\u001b[39;00m\u001b[39mgraph_objs\u001b[39;00m \u001b[39mimport\u001b[39;00m \u001b[39m*\u001b[39m\n",
      "File \u001b[0;32m~/projects/baseline0/Packt-Data-visualization-in-python-by-examples/pyviztutorial/lib/python3.12/site-packages/plotly/plotly/__init__.py:3\u001b[0m\n\u001b[1;32m      1\u001b[0m \u001b[39mfrom\u001b[39;00m \u001b[39m_plotly_future_\u001b[39;00m \u001b[39mimport\u001b[39;00m _chart_studio_error\n\u001b[0;32m----> 3\u001b[0m _chart_studio_error(\u001b[39m\"\u001b[39;49m\u001b[39mplotly\u001b[39;49m\u001b[39m\"\u001b[39;49m)\n",
      "File \u001b[0;32m~/projects/baseline0/Packt-Data-visualization-in-python-by-examples/pyviztutorial/lib/python3.12/site-packages/_plotly_future_/__init__.py:43\u001b[0m, in \u001b[0;36m_chart_studio_error\u001b[0;34m(submodule)\u001b[0m\n\u001b[1;32m     42\u001b[0m \u001b[39mdef\u001b[39;00m \u001b[39m_chart_studio_error\u001b[39m(submodule):\n\u001b[0;32m---> 43\u001b[0m     \u001b[39mraise\u001b[39;00m \u001b[39mImportError\u001b[39;00m(\n\u001b[1;32m     44\u001b[0m \u001b[39m        \u001b[39m\u001b[39m\"\"\"\u001b[39;00m\n\u001b[1;32m     45\u001b[0m \u001b[39mThe plotly.{submodule} module is deprecated,\u001b[39;00m\n\u001b[1;32m     46\u001b[0m \u001b[39mplease install the chart-studio package and use the\u001b[39;00m\n\u001b[1;32m     47\u001b[0m \u001b[39mchart_studio.{submodule} module instead. \u001b[39;00m\n\u001b[1;32m     48\u001b[0m \u001b[39m\"\"\"\u001b[39;00m\u001b[39m.\u001b[39mformat(\n\u001b[1;32m     49\u001b[0m             submodule\u001b[39m=\u001b[39msubmodule\n\u001b[1;32m     50\u001b[0m         )\n\u001b[1;32m     51\u001b[0m     )\n",
      "\u001b[0;31mImportError\u001b[0m: \nThe plotly.plotly module is deprecated,\nplease install the chart-studio package and use the\nchart_studio.plotly module instead. \n"
     ]
    }
   ],
   "source": [
    "import pandas as pd\n",
    "import plotly\n",
    "import plotly.plotly as py\n",
    "from plotly.graph_objs import *"
   ]
  },
  {
   "cell_type": "markdown",
   "metadata": {},
   "source": [
    "### Authenticating Plotly API access"
   ]
  },
  {
   "cell_type": "code",
   "execution_count": null,
   "metadata": {
    "collapsed": true
   },
   "outputs": [],
   "source": [
    "# Replace username and api_key values with the ones from your plotly account \n",
    "plotly.tools.set_credentials_file(username='#####', api_key='#################')"
   ]
  },
  {
   "cell_type": "markdown",
   "metadata": {},
   "source": [
    "### Read in and explore the data"
   ]
  },
  {
   "cell_type": "code",
   "execution_count": null,
   "metadata": {
    "collapsed": true
   },
   "outputs": [],
   "source": [
    "df = pd.read_csv(\"data-iphone.csv\")"
   ]
  },
  {
   "cell_type": "code",
   "execution_count": null,
   "metadata": {},
   "outputs": [],
   "source": [
    "df.head()"
   ]
  },
  {
   "cell_type": "code",
   "execution_count": null,
   "metadata": {},
   "outputs": [],
   "source": [
    "df.info()"
   ]
  },
  {
   "cell_type": "markdown",
   "metadata": {},
   "source": [
    "### Creating Plotly Visualizations"
   ]
  },
  {
   "cell_type": "code",
   "execution_count": null,
   "metadata": {},
   "outputs": [],
   "source": [
    "data = [Bar(x=df.Quarter,\n",
    "            y=df.Sales)]\n",
    "\n",
    "py.iplot(data, filename='basic_bar')"
   ]
  },
  {
   "cell_type": "code",
   "execution_count": null,
   "metadata": {},
   "outputs": [],
   "source": [
    "data = [Scatter(x=df.Quarter,\n",
    "            y=df.Sales)]\n",
    "\n",
    "py.iplot(data, filename='basic_line')"
   ]
  },
  {
   "cell_type": "code",
   "execution_count": null,
   "metadata": {},
   "outputs": [],
   "source": [
    "data = [Scatter(x=df.Quarter,\n",
    "            y=df.YOY_Growth,\n",
    "            mode = 'lines+markers')]\n",
    "\n",
    "py.iplot(data, filename='basic_line_point')"
   ]
  },
  {
   "cell_type": "code",
   "execution_count": null,
   "metadata": {},
   "outputs": [],
   "source": [
    "trace_sales = Bar(x=df.Quarter,\n",
    "                y=df.Sales)\n",
    "\n",
    "trace_growth = Scatter(x=df.Quarter,\n",
    "                y=df.YOY_Growth,\n",
    "                mode = 'lines+markers')\n",
    "\n",
    "data = [trace_sales, trace_growth]\n",
    "fig = Figure(data=data)\n",
    "\n",
    "py.iplot(fig, filename='styled_bar')"
   ]
  },
  {
   "cell_type": "code",
   "execution_count": null,
   "metadata": {
    "collapsed": true
   },
   "outputs": [],
   "source": [
    "df1 = df[9:]"
   ]
  },
  {
   "cell_type": "code",
   "execution_count": null,
   "metadata": {},
   "outputs": [],
   "source": [
    "trace_sales = Bar(x=df1.Quarter,\n",
    "                y=df1.Sales)\n",
    "\n",
    "trace_growth = Scatter(x=df1.Quarter,\n",
    "                y=df1.YOY_Growth,\n",
    "                mode = 'lines+markers')\n",
    "\n",
    "data = [trace_sales, trace_growth]\n",
    "fig = Figure(data=data)\n",
    "\n",
    "py.iplot(fig, filename='styled_bar')"
   ]
  },
  {
   "cell_type": "markdown",
   "metadata": {},
   "source": [
    "### Customizations"
   ]
  },
  {
   "cell_type": "raw",
   "metadata": {},
   "source": []
  },
  {
   "cell_type": "code",
   "execution_count": null,
   "metadata": {},
   "outputs": [],
   "source": [
    "trace_sales = Bar(x=df1.Quarter,\n",
    "                y=df1.Sales,name='Sales',\n",
    "                marker=dict(color='#A2D5F2'))\n",
    "\n",
    "trace_growth = Scatter(x=df1.Quarter,\n",
    "                y=df1.YOY_Growth,\n",
    "                mode = 'lines+markers',name='YOY Growth',\n",
    "                marker=dict(color='#59606D'))\n",
    "\n",
    "data = [trace_sales, trace_growth]\n",
    "fig = Figure(data=data)\n",
    "\n",
    "py.iplot(fig, filename='styled_bar')"
   ]
  },
  {
   "cell_type": "code",
   "execution_count": null,
   "metadata": {},
   "outputs": [],
   "source": [
    "trace_sales = Bar(x=df1.Quarter,\n",
    "                y=df1.Sales,\n",
    "                name='Sales',\n",
    "                marker=dict(color='#A2D5F2'))\n",
    "\n",
    "trace_growth = Scatter(x=df1.Quarter,\n",
    "                y=df1.YOY_Growth,\n",
    "                name='YOY Growth',\n",
    "                marker=dict(color='#59606D'),\n",
    "                mode = 'lines+markers',\n",
    "                yaxis='y2')\n",
    "\n",
    "layout = Layout(\n",
    "     yaxis=dict(\n",
    "        title='Sales in millions'\n",
    "    ),\n",
    "    yaxis2=dict(\n",
    "        title='Growth Rate %',\n",
    "        titlefont=dict(\n",
    "            color='rgb(148, 103, 189)'\n",
    "        ),\n",
    "        tickfont=dict(\n",
    "            color='rgb(148, 103, 189)'\n",
    "        ),\n",
    "        overlaying='y',\n",
    "        side='right'\n",
    "    )\n",
    ")\n",
    "\n",
    "data = [trace_sales, trace_growth]\n",
    "fig = Figure(data=data, layout=layout)\n",
    "\n",
    "py.iplot(fig, filename='styled_bar')"
   ]
  },
  {
   "cell_type": "code",
   "execution_count": null,
   "metadata": {
    "collapsed": true
   },
   "outputs": [],
   "source": [
    "trace_sales = Bar(x=df1.Quarter,\n",
    "                y=df1.Sales,\n",
    "                name='Sales',\n",
    "                marker=dict(color='#A2D5F2'))\n",
    "\n",
    "trace_growth = Scatter(x=df1.Quarter,\n",
    "                y=df1.YOY_Growth,\n",
    "                name='YOY Growth',\n",
    "                marker=dict(color='#59606D'),\n",
    "                mode = 'lines+markers',\n",
    "                yaxis='y2')\n",
    "\n",
    "layout = Layout(\n",
    "    yaxis=dict(\n",
    "        title='Sales in millions'\n",
    "    ),\n",
    "    yaxis2=dict(\n",
    "        title='Growth Rate %',\n",
    "        titlefont=dict(\n",
    "            color='rgb(148, 103, 189)'\n",
    "        ),\n",
    "        tickfont=dict(\n",
    "            color='rgb(148, 103, 189)'\n",
    "        ),\n",
    "        overlaying='y',\n",
    "        side='right'\n",
    "    )\n",
    ")\n",
    "\n",
    "data = [trace_sales, trace_growth]\n",
    "fig = Figure(data=data, layout=layout)\n",
    "\n",
    "py.iplot(fig, filename='styled_bar')"
   ]
  },
  {
   "cell_type": "code",
   "execution_count": null,
   "metadata": {},
   "outputs": [],
   "source": [
    "layout = Layout( \n",
    "    yaxis=dict(\n",
    "        title='Sales in millions'\n",
    "    ),\n",
    "    yaxis2=dict(\n",
    "        title='Growth Rate %e',\n",
    "        titlefont=dict(\n",
    "            color='rgb(148, 103, 189)'\n",
    "        ),\n",
    "        tickfont=dict(\n",
    "            color='rgb(148, 103, 189)'\n",
    "        ),\n",
    "        overlaying='y',\n",
    "        side='right'\n",
    "    ),\n",
    "    title='Apple iPhone Sales and Growth Rate over the quarters',\n",
    "    paper_bgcolor = 'rgb(53, 2, 7)',\n",
    "    plot_bgcolor = 'rgb(53, 2, 7)',\n",
    "    font = {'color': 'white'}\n",
    ")\n",
    "\n",
    "data = [trace_sales, trace_growth]\n",
    "fig = Figure(data=data, layout=layout)\n",
    "\n",
    "py.iplot(fig, filename='styled_bar')"
   ]
  },
  {
   "cell_type": "code",
   "execution_count": null,
   "metadata": {
    "collapsed": true
   },
   "outputs": [],
   "source": []
  }
 ],
 "metadata": {
  "kernelspec": {
   "display_name": "Python 3",
   "language": "python",
   "name": "python3"
  },
  "language_info": {
   "codemirror_mode": {
    "name": "ipython",
    "version": 3
   },
   "file_extension": ".py",
   "mimetype": "text/x-python",
   "name": "python",
   "nbconvert_exporter": "python",
   "pygments_lexer": "ipython3",
   "version": "3.12.0"
  }
 },
 "nbformat": 4,
 "nbformat_minor": 2
}
